{
  "nbformat": 4,
  "nbformat_minor": 0,
  "metadata": {
    "colab": {
      "provenance": [],
      "authorship_tag": "ABX9TyOjBRk5PbM6nLYI5xyUCwMd",
      "include_colab_link": true
    },
    "kernelspec": {
      "name": "python3",
      "display_name": "Python 3"
    },
    "language_info": {
      "name": "python"
    }
  },
  "cells": [
    {
      "cell_type": "markdown",
      "metadata": {
        "id": "view-in-github",
        "colab_type": "text"
      },
      "source": [
        "<a href=\"https://colab.research.google.com/github/pferroni/aula_senai/blob/main/aula120225.ipynb\" target=\"_parent\"><img src=\"https://colab.research.google.com/assets/colab-badge.svg\" alt=\"Open In Colab\"/></a>"
      ]
    },
    {
      "cell_type": "code",
      "execution_count": 12,
      "metadata": {
        "id": "7QUrRbn5mft1",
        "colab": {
          "base_uri": "https://localhost:8080/",
          "height": 106
        },
        "outputId": "b4f8efbf-d020-4565-d9b9-3dcf2251b570"
      },
      "outputs": [
        {
          "output_type": "error",
          "ename": "IndentationError",
          "evalue": "unexpected indent (<ipython-input-12-91bb851c989a>, line 2)",
          "traceback": [
            "\u001b[0;36m  File \u001b[0;32m\"<ipython-input-12-91bb851c989a>\"\u001b[0;36m, line \u001b[0;32m2\u001b[0m\n\u001b[0;31m    import numpy as np\u001b[0m\n\u001b[0m    ^\u001b[0m\n\u001b[0;31mIndentationError\u001b[0m\u001b[0;31m:\u001b[0m unexpected indent\n"
          ]
        }
      ],
      "source": [
        "[1] #Libraries\n",
        "  import numpy as np\n"
      ]
    },
    {
      "cell_type": "code",
      "source": [],
      "metadata": {
        "id": "lXNIXt963H0z"
      },
      "execution_count": null,
      "outputs": []
    },
    {
      "cell_type": "code",
      "source": [
        "w1,w2,w3 = 0.3, 0.2, 0.5\n",
        "print(w1)\n",
        "print(w2)\n",
        "print(w3)"
      ],
      "metadata": {
        "colab": {
          "base_uri": "https://localhost:8080/"
        },
        "id": "xxewTe4Xypds",
        "outputId": "dd750b66-6a9f-4408-b581-a83cafaceb6a"
      },
      "execution_count": null,
      "outputs": [
        {
          "output_type": "stream",
          "name": "stdout",
          "text": [
            "0.3\n",
            "0.2\n",
            "0.5\n"
          ]
        }
      ]
    },
    {
      "cell_type": "code",
      "source": [],
      "metadata": {
        "id": "O-m0lVmN_6-r"
      },
      "execution_count": null,
      "outputs": []
    },
    {
      "cell_type": "code",
      "source": [
        "regiaoA_temp = 22\n",
        "regiaoA_chuva = 67\n",
        "regiaoA_unid = 65"
      ],
      "metadata": {
        "id": "QajddbGy1PH0"
      },
      "execution_count": null,
      "outputs": []
    },
    {
      "cell_type": "code",
      "source": [
        "# um gestor de TI precisa verificar se um numero de serie de um computador é valido. Se o numero de serie for maior de 1000 e menor de 9999, ele é considerado valido. Caso contrario, o sistema deve mostrar uma mensagem de erro."
      ],
      "metadata": {
        "id": "_vm4ioVu3Jb6"
      },
      "execution_count": null,
      "outputs": []
    },
    {
      "cell_type": "code",
      "source": [
        "numero_serie = int(input ('digite o numero de serie:'))\n",
        "if 1000<= numero_serie <=9999:\n",
        "  print('numero ok')\n",
        "else:\n",
        "  print('numero Nok')\n",
        "\n"
      ],
      "metadata": {
        "colab": {
          "base_uri": "https://localhost:8080/"
        },
        "id": "5FKaORrU4AGU",
        "outputId": "89ac6a19-0c93-4b71-ea05-f238a1cfbe26"
      },
      "execution_count": null,
      "outputs": [
        {
          "output_type": "stream",
          "name": "stdout",
          "text": [
            "digite o numero de serie:1001\n",
            "numero ok\n"
          ]
        }
      ]
    },
    {
      "cell_type": "code",
      "source": [
        "# dados Climaticos da região A\n",
        "regiaoA_temp = 22\n",
        "regiaoA_chuva = 67\n",
        "regiaoA_unid = 65\n",
        "\n",
        "#aplicando o modelo\n",
        "regiaoA_goiaba = (regiaoA_temp * w1) + (regiaoA_chuva * w2) + (regiaoA_unid * w3)\n",
        "\n",
        "print(f'Na regiao da produção de {regiaoA_goiaba} tonelafdas por hectare')\n"
      ],
      "metadata": {
        "colab": {
          "base_uri": "https://localhost:8080/"
        },
        "id": "XiGaPg836OED",
        "outputId": "3a634bbb-fd49-4a86-b697-80b3c2aca624"
      },
      "execution_count": null,
      "outputs": [
        {
          "output_type": "stream",
          "name": "stdout",
          "text": [
            "Na regiao da produção de 52.5 tonelafdas por hectare\n"
          ]
        }
      ]
    },
    {
      "cell_type": "code",
      "source": [
        "w1,w2,w3 = 0.3, 0.2, 0.5\n",
        "print(w1)\n",
        "print(w2)\n",
        "print(w3)"
      ],
      "metadata": {
        "colab": {
          "base_uri": "https://localhost:8080/"
        },
        "id": "k77SbSKs_99h",
        "outputId": "aa7b24bc-16a4-4ed0-b184-09d0c8a2ff0a"
      },
      "execution_count": null,
      "outputs": [
        {
          "output_type": "stream",
          "name": "stdout",
          "text": [
            "0.3\n",
            "0.2\n",
            "0.5\n"
          ]
        }
      ]
    },
    {
      "cell_type": "code",
      "source": [
        "# dados Climaticos da região A\n",
        "regiaoA_temp = 22\n",
        "regiaoA_chuva = 67\n",
        "regiaoA_unid = 65\n",
        "\n",
        "#aplicando o modelo\n",
        "regiaoA_goiaba = (regiaoA_temp * w1) + (regiaoA_chuva * w2) + (regiaoA_unid * w3)\n",
        "print(f'Na regiao da produção de {regiaoA_goiaba} tonelafdas por hectare')\n"
      ],
      "metadata": {
        "colab": {
          "base_uri": "https://localhost:8080/"
        },
        "id": "4ctkv9ZpAG_K",
        "outputId": "35b6216a-3373-4408-93e2-e03fcbb3262f"
      },
      "execution_count": null,
      "outputs": [
        {
          "output_type": "stream",
          "name": "stdout",
          "text": [
            "Na regiao da produção de 52.5 tonelafdas por hectare\n"
          ]
        }
      ]
    },
    {
      "cell_type": "code",
      "source": [
        "regiaoA = [22,67,65]\n",
        "regiaoB = [24,88,95]\n",
        "regiaoC = [17,134,50]\n",
        "regiaoD = [18,96,70]"
      ],
      "metadata": {
        "id": "SoOiExVFAv9S"
      },
      "execution_count": null,
      "outputs": []
    },
    {
      "cell_type": "code",
      "source": [
        "pesos = [w1,w2,w3]"
      ],
      "metadata": {
        "id": "ggqFFz-qBlWj"
      },
      "execution_count": null,
      "outputs": []
    },
    {
      "cell_type": "code",
      "source": [
        "a=5\n",
        "b=10\n",
        "def teste(a,b):\n",
        "  print(a+b)"
      ],
      "metadata": {
        "id": "srGQ7zlaDPxa"
      },
      "execution_count": null,
      "outputs": []
    },
    {
      "cell_type": "code",
      "source": [
        "def produçao_goiaba(regiao,pesos):\n",
        "  result = 0\n",
        "  for x, w in zip(regiao, pesos):\n",
        "    result += x*w\n",
        "  return result"
      ],
      "metadata": {
        "id": "LCPHPYVFKFf6"
      },
      "execution_count": null,
      "outputs": []
    },
    {
      "cell_type": "code",
      "source": [
        "# produção da regiao A,B,C,D\n",
        "print(produçao_goiaba(regiaoA, pesos))\n",
        "print(produçao_goiaba(regiaoB, pesos))\n",
        "print(produçao_goiaba(regiaoC, pesos))\n",
        "print(produçao_goiaba(regiaoD, pesos))"
      ],
      "metadata": {
        "colab": {
          "base_uri": "https://localhost:8080/"
        },
        "id": "tHSFbIbaLXq7",
        "outputId": "2e77f093-0240-400b-d22c-288f37051201"
      },
      "execution_count": null,
      "outputs": [
        {
          "output_type": "stream",
          "name": "stdout",
          "text": [
            "52.5\n",
            "72.3\n",
            "56.9\n",
            "59.6\n"
          ]
        }
      ]
    },
    {
      "cell_type": "code",
      "source": [
        "teste(a,b)"
      ],
      "metadata": {
        "colab": {
          "base_uri": "https://localhost:8080/"
        },
        "id": "po0X5RcpDvjj",
        "outputId": "1f11003c-3d14-4afe-d8e3-aabe663e86e9"
      },
      "execution_count": null,
      "outputs": [
        {
          "output_type": "stream",
          "name": "stdout",
          "text": [
            "15\n"
          ]
        }
      ]
    },
    {
      "cell_type": "code",
      "source": [
        "#importado o numpy\n",
        "\n",
        "import numpy as np\n",
        "\n",
        "regiaoA = np.array([22, 67, 65])\n",
        "print (type(regiaoA))\n",
        "pesos = np.array ([w1, w2, w3])\n",
        "print(type(pesos))\n",
        "\n"
      ],
      "metadata": {
        "colab": {
          "base_uri": "https://localhost:8080/"
        },
        "id": "kV33E5xJTpr_",
        "outputId": "5611fe4d-10ad-4bf0-8da1-67a229fd8ec1"
      },
      "execution_count": null,
      "outputs": [
        {
          "output_type": "stream",
          "name": "stdout",
          "text": [
            "<class 'numpy.ndarray'>\n",
            "<class 'numpy.ndarray'>\n"
          ]
        }
      ]
    },
    {
      "cell_type": "code",
      "source": [
        "reg_a = np.dot(regiaoA, pesos)\n",
        "print('regiao A:{}'.format(reg_a))"
      ],
      "metadata": {
        "colab": {
          "base_uri": "https://localhost:8080/"
        },
        "id": "rxxj_OERXiBu",
        "outputId": "cd2d1b40-694f-483f-de29-0b41a5d8ccde"
      },
      "execution_count": null,
      "outputs": [
        {
          "output_type": "stream",
          "name": "stdout",
          "text": [
            "regiao A:52.5\n"
          ]
        }
      ]
    },
    {
      "cell_type": "code",
      "source": [
        "reg_a = np.dot(regiaoB, pesos)\n",
        "print('regiao B:{}'.format(reg_a))"
      ],
      "metadata": {
        "colab": {
          "base_uri": "https://localhost:8080/"
        },
        "id": "1tAv1bBkZlMW",
        "outputId": "decc5f18-8be8-428c-c338-ed2c3f8bf558"
      },
      "execution_count": null,
      "outputs": [
        {
          "output_type": "stream",
          "name": "stdout",
          "text": [
            "regiao B:72.3\n"
          ]
        }
      ]
    },
    {
      "cell_type": "code",
      "source": [
        "#Exemplos\n",
        "#Lista em Python\n",
        "\n",
        "arr1 = list(range(2000000))\n",
        "arr2 = list(range(1000000,3000000))\n",
        "\n",
        "# vetor em Numpy\n",
        "arr1_np = np.array(arr1)\n",
        "arr2_np = np.array(arr2)\n"
      ],
      "metadata": {
        "id": "Yni3JC3wZ3L9"
      },
      "execution_count": null,
      "outputs": []
    },
    {
      "cell_type": "code",
      "source": [
        "%%time\n",
        "result = 0\n",
        "for x1,x2 in zip(arr1,arr2):\n",
        "    result += x1 * x2\n",
        "print(result)"
      ],
      "metadata": {
        "colab": {
          "base_uri": "https://localhost:8080/"
        },
        "id": "Rgaayh8lbPqe",
        "outputId": "d91c0c79-e33c-4a74-9272-c65432981a93"
      },
      "execution_count": null,
      "outputs": [
        {
          "output_type": "stream",
          "name": "stdout",
          "text": [
            "4666663666667000000\n",
            "CPU times: user 373 ms, sys: 0 ns, total: 373 ms\n",
            "Wall time: 373 ms\n"
          ]
        }
      ]
    },
    {
      "cell_type": "code",
      "source": [
        "%%time\n",
        "print(np.dot(arr1_np, arr2_np))"
      ],
      "metadata": {
        "colab": {
          "base_uri": "https://localhost:8080/"
        },
        "id": "zO5eSz9pcmFO",
        "outputId": "8b8a6b6b-fbe0-4200-bde0-249bf64a530c"
      },
      "execution_count": null,
      "outputs": [
        {
          "output_type": "stream",
          "name": "stdout",
          "text": [
            "4666663666667000000\n",
            "CPU times: user 5.28 ms, sys: 0 ns, total: 5.28 ms\n",
            "Wall time: 4.08 ms\n"
          ]
        }
      ]
    },
    {
      "cell_type": "code",
      "source": [
        "dados_climaticos =np.array([[22,67,65],\n",
        "                          [24,88,95],\n",
        "                            [17,134,50],\n",
        "                            [18,96,70]])\n",
        "print(dados_climaticos)"
      ],
      "metadata": {
        "colab": {
          "base_uri": "https://localhost:8080/"
        },
        "id": "J9PjCMjMdwCv",
        "outputId": "b2793b22-0cea-46db-b5e4-7c25d4218785"
      },
      "execution_count": null,
      "outputs": [
        {
          "output_type": "stream",
          "name": "stdout",
          "text": [
            "[[ 22  67  65]\n",
            " [ 24  88  95]\n",
            " [ 17 134  50]\n",
            " [ 18  96  70]]\n"
          ]
        }
      ]
    },
    {
      "cell_type": "code",
      "source": [
        "print(dados_climaticos.shape)\n",
        "print(pesos.shape)\n",
        "print(pesos.dtype)\n",
        "print('________')\n",
        "print(dados_climaticos.dtype)\n",
        "float64\n",
        "-------------\n",
        "int64"
      ],
      "metadata": {
        "colab": {
          "base_uri": "https://localhost:8080/",
          "height": 110
        },
        "id": "Q82v-3VHgw0G",
        "outputId": "a6b13261-d5fd-4378-b956-935f7ff06bbf"
      },
      "execution_count": null,
      "outputs": [
        {
          "output_type": "error",
          "ename": "SyntaxError",
          "evalue": "invalid syntax (<ipython-input-113-4cd2c64cf333>, line 7)",
          "traceback": [
            "\u001b[0;36m  File \u001b[0;32m\"<ipython-input-113-4cd2c64cf333>\"\u001b[0;36m, line \u001b[0;32m7\u001b[0m\n\u001b[0;31m    -------------\u001b[0m\n\u001b[0m                 ^\u001b[0m\n\u001b[0;31mSyntaxError\u001b[0m\u001b[0;31m:\u001b[0m invalid syntax\n"
          ]
        }
      ]
    },
    {
      "cell_type": "code",
      "source": [],
      "metadata": {
        "colab": {
          "base_uri": "https://localhost:8080/",
          "height": 183
        },
        "id": "S_i-Y1hHhtE8",
        "outputId": "86d1cc57-3876-4694-e8df-828fef8ca856"
      },
      "execution_count": null,
      "outputs": [
        {
          "output_type": "error",
          "ename": "AttributeError",
          "evalue": "'numpy.ndarray' object has no attribute 'type'",
          "traceback": [
            "\u001b[0;31m---------------------------------------------------------------------------\u001b[0m",
            "\u001b[0;31mAttributeError\u001b[0m                            Traceback (most recent call last)",
            "\u001b[0;32m<ipython-input-102-79036137a426>\u001b[0m in \u001b[0;36m<cell line: 0>\u001b[0;34m()\u001b[0m\n\u001b[0;32m----> 1\u001b[0;31m \u001b[0mprint\u001b[0m\u001b[0;34m(\u001b[0m\u001b[0mpesos\u001b[0m\u001b[0;34m.\u001b[0m\u001b[0mtype\u001b[0m\u001b[0;34m)\u001b[0m\u001b[0;34m\u001b[0m\u001b[0;34m\u001b[0m\u001b[0m\n\u001b[0m\u001b[1;32m      2\u001b[0m \u001b[0mprint\u001b[0m\u001b[0;34m(\u001b[0m\u001b[0;34m'________'\u001b[0m\u001b[0;34m)\u001b[0m\u001b[0;34m\u001b[0m\u001b[0;34m\u001b[0m\u001b[0m\n\u001b[1;32m      3\u001b[0m \u001b[0mprint\u001b[0m\u001b[0;34m(\u001b[0m\u001b[0mdados_climatico\u001b[0m\u001b[0;34m.\u001b[0m\u001b[0mdtype\u001b[0m\u001b[0;34m)\u001b[0m\u001b[0;34m\u001b[0m\u001b[0;34m\u001b[0m\u001b[0m\n",
            "\u001b[0;31mAttributeError\u001b[0m: 'numpy.ndarray' object has no attribute 'type'"
          ]
        }
      ]
    },
    {
      "cell_type": "code",
      "source": [
        "# codigo zip combinando listas\n",
        "\n",
        "nomes = ['Alice','Bob','Charlie']\n",
        "idades = [25,30,35]\n",
        "\n",
        "#combinando listas usando zip\n",
        "lista_combinada = list(zip(nomes,idades))\n",
        "print(lista_combinada)\n",
        "#Saida [('Alice'25), ('Bob',30), ('Charlie',35)]"
      ],
      "metadata": {
        "colab": {
          "base_uri": "https://localhost:8080/"
        },
        "id": "3qI62Me-IfTa",
        "outputId": "1cb0715a-3304-4e24-d3e3-9b5aba3289a9"
      },
      "execution_count": null,
      "outputs": [
        {
          "output_type": "stream",
          "name": "stdout",
          "text": [
            "[('Alice', 25), ('Bob', 30), ('Charlie', 35)]\n"
          ]
        }
      ]
    },
    {
      "cell_type": "code",
      "source": [
        "np.matmul(dados_climaticos, pesos)\n",
        "array([52.5, 72.3, 56.9, 59.6])"
      ],
      "metadata": {
        "colab": {
          "base_uri": "https://localhost:8080/",
          "height": 159
        },
        "id": "3rssiIoZj5aW",
        "outputId": "0b52a356-0f1d-410d-b0e4-ccfe4a44ff68"
      },
      "execution_count": 2,
      "outputs": [
        {
          "output_type": "error",
          "ename": "NameError",
          "evalue": "name 'np' is not defined",
          "traceback": [
            "\u001b[0;31m---------------------------------------------------------------------------\u001b[0m",
            "\u001b[0;31mNameError\u001b[0m                                 Traceback (most recent call last)",
            "\u001b[0;32m<ipython-input-2-7f068b358145>\u001b[0m in \u001b[0;36m<cell line: 0>\u001b[0;34m()\u001b[0m\n\u001b[0;32m----> 1\u001b[0;31m \u001b[0mnp\u001b[0m\u001b[0;34m.\u001b[0m\u001b[0mmatmul\u001b[0m\u001b[0;34m(\u001b[0m\u001b[0mdados_climaticos\u001b[0m\u001b[0;34m,\u001b[0m \u001b[0mpesos\u001b[0m\u001b[0;34m)\u001b[0m\u001b[0;34m\u001b[0m\u001b[0;34m\u001b[0m\u001b[0m\n\u001b[0m\u001b[1;32m      2\u001b[0m \u001b[0marray\u001b[0m\u001b[0;34m(\u001b[0m\u001b[0;34m[\u001b[0m\u001b[0;36m52.5\u001b[0m\u001b[0;34m,\u001b[0m \u001b[0;36m72.3\u001b[0m\u001b[0;34m,\u001b[0m \u001b[0;36m56.9\u001b[0m\u001b[0;34m,\u001b[0m \u001b[0;36m59.6\u001b[0m\u001b[0;34m]\u001b[0m\u001b[0;34m)\u001b[0m\u001b[0;34m\u001b[0m\u001b[0;34m\u001b[0m\u001b[0m\n",
            "\u001b[0;31mNameError\u001b[0m: name 'np' is not defined"
          ]
        }
      ]
    },
    {
      "cell_type": "code",
      "source": [
        "#aula 1202\n",
        "\n",
        "import numpy as np"
      ],
      "metadata": {
        "id": "w1H5JLcbMtg-"
      },
      "execution_count": 13,
      "outputs": []
    },
    {
      "cell_type": "code",
      "source": [
        "Goiaba = np.genfromtxt('/content/Goiaba.csv', delimiter=',')\n",
        "\n",
        "Goiaba\n"
      ],
      "metadata": {
        "colab": {
          "base_uri": "https://localhost:8080/"
        },
        "id": "lM4tXSdgM52-",
        "outputId": "ce2d1dba-d021-4c5f-9ba7-a5fdb2fa6f38"
      },
      "execution_count": 19,
      "outputs": [
        {
          "output_type": "execute_result",
          "data": {
            "text/plain": [
              "array([[23., 29., 95.],\n",
              "       [24., 20., 21.],\n",
              "       [18., 23., 16.],\n",
              "       [19., 30., 36.]])"
            ]
          },
          "metadata": {},
          "execution_count": 19
        }
      ]
    },
    {
      "cell_type": "code",
      "source": [
        "pesos = np.array ([0.4,0.2,0.9])\n",
        "rendimento = Goiaba @ pesos"
      ],
      "metadata": {
        "id": "GisKa8-AREQl"
      },
      "execution_count": 20,
      "outputs": []
    },
    {
      "cell_type": "code",
      "source": [
        "# incluir o resultado na regiao do array\n",
        "\n",
        "resultado = np.concatenate((Goiaba, rendimento.reshape(4,1)), axis=1)\n",
        "\n"
      ],
      "metadata": {
        "id": "hHPVNBuqS2DV"
      },
      "execution_count": 31,
      "outputs": []
    },
    {
      "cell_type": "code",
      "source": [
        "resultado"
      ],
      "metadata": {
        "colab": {
          "base_uri": "https://localhost:8080/"
        },
        "id": "0Ru1H7ByUpKt",
        "outputId": "d51fee2a-3799-47a8-ed49-3e736f9ef181"
      },
      "execution_count": 32,
      "outputs": [
        {
          "output_type": "execute_result",
          "data": {
            "text/plain": [
              "array([[ 23. ,  29. ,  95. , 100.5],\n",
              "       [ 24. ,  20. ,  21. ,  32.5],\n",
              "       [ 18. ,  23. ,  16. ,  26.2],\n",
              "       [ 19. ,  30. ,  36. ,  46. ]])"
            ]
          },
          "metadata": {},
          "execution_count": 32
        }
      ]
    },
    {
      "cell_type": "code",
      "source": [
        "# agora é so salvar\n",
        "np.savetxt('goiaba_result.csv',\n",
        "           resultado,\n",
        "           fmt='%.2f',\n",
        "           delimiter=',',\n",
        "           header= 'temperatura,precipitação,umidade,rendimento',comments='')"
      ],
      "metadata": {
        "id": "A2zBf9AHU1bF"
      },
      "execution_count": 36,
      "outputs": []
    },
    {
      "cell_type": "code",
      "source": [
        "#importação de dados do excel, utlização de tabelas e execução de formulas)"
      ],
      "metadata": {
        "id": "UdNOZIHUVzZH"
      },
      "execution_count": null,
      "outputs": []
    }
  ]
}