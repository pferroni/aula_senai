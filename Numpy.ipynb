{
  "nbformat": 4,
  "nbformat_minor": 0,
  "metadata": {
    "colab": {
      "provenance": [],
      "authorship_tag": "ABX9TyPync392hqFe2ADW0zKxu10",
      "include_colab_link": true
    },
    "kernelspec": {
      "name": "python3",
      "display_name": "Python 3"
    },
    "language_info": {
      "name": "python"
    }
  },
  "cells": [
    {
      "cell_type": "markdown",
      "metadata": {
        "id": "view-in-github",
        "colab_type": "text"
      },
      "source": [
        "<a href=\"https://colab.research.google.com/github/pferroni/aula_senai/blob/main/Numpy.ipynb\" target=\"_parent\"><img src=\"https://colab.research.google.com/assets/colab-badge.svg\" alt=\"Open In Colab\"/></a>"
      ]
    },
    {
      "cell_type": "code",
      "execution_count": 2,
      "metadata": {
        "id": "7QUrRbn5mft1"
      },
      "outputs": [],
      "source": [
        "[1] #Libraries\n",
        "  import numpy as np\n",
        ""
      ]
    },
    {
      "cell_type": "code",
      "source": [
        "w1,w2,w3 = 0.3, 0.2, 0.5\n",
        "print(w1)\n",
        "print(w2)\n",
        "print(w3)"
      ],
      "metadata": {
        "colab": {
          "base_uri": "https://localhost:8080/"
        },
        "id": "xxewTe4Xypds",
        "outputId": "378db8ee-cc0a-4ca7-f198-4c4234537084"
      },
      "execution_count": 5,
      "outputs": [
        {
          "output_type": "stream",
          "name": "stdout",
          "text": [
            "0.3\n",
            "0.2\n",
            "0.5\n"
          ]
        }
      ]
    },
    {
      "cell_type": "code",
      "source": [
        "regiaoA_temp = 22\n",
        "regiaoA_chuva = 67\n",
        "regiaoA_unid = 65"
      ],
      "metadata": {
        "id": "QajddbGy1PH0"
      },
      "execution_count": null,
      "outputs": []
    }
  ]
}